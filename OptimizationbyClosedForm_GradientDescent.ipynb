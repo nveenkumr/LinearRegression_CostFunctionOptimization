{
 "cells": [
  {
   "cell_type": "code",
   "execution_count": 21,
   "metadata": {},
   "outputs": [],
   "source": [
    "#import libraries\n",
    "%config IPCompleter.greedy=True\n",
    "import pandas as pd\n",
    "import numpy as np \n",
    "import matplotlib.pyplot as plt\n",
    "%matplotlib inline\n",
    "import seaborn as sns\n",
    "pd.set_option('display.max_columns', 10000)\n",
    "pd.set_option('display.max_rows', 200)"
   ]
  },
  {
   "cell_type": "code",
   "execution_count": 3,
   "metadata": {},
   "outputs": [
    {
     "data": {
      "text/plain": [
       "array([ 2.33793836, -3.06695005])"
      ]
     },
     "execution_count": 3,
     "metadata": {},
     "output_type": "execute_result"
    }
   ],
   "source": [
    "#solving 2 equation by matrix ( Ainverse * b = x)\n",
    "a= np.array([[627 , 73], [73,10]])\n",
    "b= np.array([1242, 140])\n",
    "ainv= np.linalg.inv(a)\n",
    "x = np.dot(ainv,b)\n",
    "x"
   ]
  },
  {
   "cell_type": "code",
   "execution_count": 36,
   "metadata": {},
   "outputs": [],
   "source": [
    "# Implement gradient descent function\n",
    "# Takes in X, y, current m and c (both initialised to 0), num_iterations, learning rate\n",
    "# returns gradient at current m and c for each pair of m and c\n",
    "\n",
    "def gradient(X, y, m_current=0, c_current=0, iters=1200, learning_rate=0.01):\n",
    "    N = float(len(y))\n",
    "    gd_df = pd.DataFrame( columns = ['m_current', 'c_current','cost'])\n",
    "    for i in range(iters):\n",
    "        y_current = (m_current * X) + c_current\n",
    "        cost = sum([data**2 for data in (y-y_current)]) / N\n",
    "        m_gradient = -(2/N) * sum(X * (y - y_current))\n",
    "        c_gradient = -(2/N) * sum(y - y_current)\n",
    "        m_current = m_current - (learning_rate * m_gradient)\n",
    "        c_current = c_current - (learning_rate * c_gradient)\n",
    "        gd_df.loc[i] = [m_current,c_current,cost]\n",
    "    return(gd_df)\n"
   ]
  },
  {
   "cell_type": "code",
   "execution_count": 37,
   "metadata": {},
   "outputs": [],
   "source": [
    "X = np.array([1,2,4,6,8])\n",
    "y = np.array([3,5,5,4,8])\n"
   ]
  },
  {
   "cell_type": "code",
   "execution_count": 39,
   "metadata": {
    "scrolled": true
   },
   "outputs": [
    {
     "data": {
      "text/html": [
       "<div>\n",
       "<style scoped>\n",
       "    .dataframe tbody tr th:only-of-type {\n",
       "        vertical-align: middle;\n",
       "    }\n",
       "\n",
       "    .dataframe tbody tr th {\n",
       "        vertical-align: top;\n",
       "    }\n",
       "\n",
       "    .dataframe thead th {\n",
       "        text-align: right;\n",
       "    }\n",
       "</style>\n",
       "<table border=\"1\" class=\"dataframe\">\n",
       "  <thead>\n",
       "    <tr style=\"text-align: right;\">\n",
       "      <th></th>\n",
       "      <th>m_current</th>\n",
       "      <th>c_current</th>\n",
       "      <th>cost</th>\n",
       "    </tr>\n",
       "  </thead>\n",
       "  <tbody>\n",
       "    <tr>\n",
       "      <th>1170</th>\n",
       "      <td>0.488818</td>\n",
       "      <td>2.945448</td>\n",
       "      <td>1.239034</td>\n",
       "    </tr>\n",
       "    <tr>\n",
       "      <th>1171</th>\n",
       "      <td>0.488812</td>\n",
       "      <td>2.945478</td>\n",
       "      <td>1.239033</td>\n",
       "    </tr>\n",
       "    <tr>\n",
       "      <th>1172</th>\n",
       "      <td>0.488807</td>\n",
       "      <td>2.945508</td>\n",
       "      <td>1.239033</td>\n",
       "    </tr>\n",
       "    <tr>\n",
       "      <th>1173</th>\n",
       "      <td>0.488802</td>\n",
       "      <td>2.945538</td>\n",
       "      <td>1.239033</td>\n",
       "    </tr>\n",
       "    <tr>\n",
       "      <th>1174</th>\n",
       "      <td>0.488796</td>\n",
       "      <td>2.945568</td>\n",
       "      <td>1.239033</td>\n",
       "    </tr>\n",
       "    <tr>\n",
       "      <th>1175</th>\n",
       "      <td>0.488791</td>\n",
       "      <td>2.945598</td>\n",
       "      <td>1.239033</td>\n",
       "    </tr>\n",
       "    <tr>\n",
       "      <th>1176</th>\n",
       "      <td>0.488786</td>\n",
       "      <td>2.945627</td>\n",
       "      <td>1.239033</td>\n",
       "    </tr>\n",
       "    <tr>\n",
       "      <th>1177</th>\n",
       "      <td>0.488781</td>\n",
       "      <td>2.945657</td>\n",
       "      <td>1.239033</td>\n",
       "    </tr>\n",
       "    <tr>\n",
       "      <th>1178</th>\n",
       "      <td>0.488776</td>\n",
       "      <td>2.945686</td>\n",
       "      <td>1.239033</td>\n",
       "    </tr>\n",
       "    <tr>\n",
       "      <th>1179</th>\n",
       "      <td>0.488771</td>\n",
       "      <td>2.945715</td>\n",
       "      <td>1.239033</td>\n",
       "    </tr>\n",
       "    <tr>\n",
       "      <th>1180</th>\n",
       "      <td>0.488766</td>\n",
       "      <td>2.945744</td>\n",
       "      <td>1.239033</td>\n",
       "    </tr>\n",
       "    <tr>\n",
       "      <th>1181</th>\n",
       "      <td>0.488761</td>\n",
       "      <td>2.945773</td>\n",
       "      <td>1.239033</td>\n",
       "    </tr>\n",
       "    <tr>\n",
       "      <th>1182</th>\n",
       "      <td>0.488756</td>\n",
       "      <td>2.945802</td>\n",
       "      <td>1.239032</td>\n",
       "    </tr>\n",
       "    <tr>\n",
       "      <th>1183</th>\n",
       "      <td>0.488751</td>\n",
       "      <td>2.945830</td>\n",
       "      <td>1.239032</td>\n",
       "    </tr>\n",
       "    <tr>\n",
       "      <th>1184</th>\n",
       "      <td>0.488746</td>\n",
       "      <td>2.945858</td>\n",
       "      <td>1.239032</td>\n",
       "    </tr>\n",
       "    <tr>\n",
       "      <th>1185</th>\n",
       "      <td>0.488741</td>\n",
       "      <td>2.945887</td>\n",
       "      <td>1.239032</td>\n",
       "    </tr>\n",
       "    <tr>\n",
       "      <th>1186</th>\n",
       "      <td>0.488736</td>\n",
       "      <td>2.945915</td>\n",
       "      <td>1.239032</td>\n",
       "    </tr>\n",
       "    <tr>\n",
       "      <th>1187</th>\n",
       "      <td>0.488731</td>\n",
       "      <td>2.945943</td>\n",
       "      <td>1.239032</td>\n",
       "    </tr>\n",
       "    <tr>\n",
       "      <th>1188</th>\n",
       "      <td>0.488726</td>\n",
       "      <td>2.945970</td>\n",
       "      <td>1.239032</td>\n",
       "    </tr>\n",
       "    <tr>\n",
       "      <th>1189</th>\n",
       "      <td>0.488721</td>\n",
       "      <td>2.945998</td>\n",
       "      <td>1.239032</td>\n",
       "    </tr>\n",
       "    <tr>\n",
       "      <th>1190</th>\n",
       "      <td>0.488716</td>\n",
       "      <td>2.946026</td>\n",
       "      <td>1.239032</td>\n",
       "    </tr>\n",
       "    <tr>\n",
       "      <th>1191</th>\n",
       "      <td>0.488711</td>\n",
       "      <td>2.946053</td>\n",
       "      <td>1.239032</td>\n",
       "    </tr>\n",
       "    <tr>\n",
       "      <th>1192</th>\n",
       "      <td>0.488707</td>\n",
       "      <td>2.946080</td>\n",
       "      <td>1.239032</td>\n",
       "    </tr>\n",
       "    <tr>\n",
       "      <th>1193</th>\n",
       "      <td>0.488702</td>\n",
       "      <td>2.946107</td>\n",
       "      <td>1.239032</td>\n",
       "    </tr>\n",
       "    <tr>\n",
       "      <th>1194</th>\n",
       "      <td>0.488697</td>\n",
       "      <td>2.946134</td>\n",
       "      <td>1.239031</td>\n",
       "    </tr>\n",
       "    <tr>\n",
       "      <th>1195</th>\n",
       "      <td>0.488692</td>\n",
       "      <td>2.946161</td>\n",
       "      <td>1.239031</td>\n",
       "    </tr>\n",
       "    <tr>\n",
       "      <th>1196</th>\n",
       "      <td>0.488688</td>\n",
       "      <td>2.946187</td>\n",
       "      <td>1.239031</td>\n",
       "    </tr>\n",
       "    <tr>\n",
       "      <th>1197</th>\n",
       "      <td>0.488683</td>\n",
       "      <td>2.946214</td>\n",
       "      <td>1.239031</td>\n",
       "    </tr>\n",
       "    <tr>\n",
       "      <th>1198</th>\n",
       "      <td>0.488679</td>\n",
       "      <td>2.946240</td>\n",
       "      <td>1.239031</td>\n",
       "    </tr>\n",
       "    <tr>\n",
       "      <th>1199</th>\n",
       "      <td>0.488674</td>\n",
       "      <td>2.946266</td>\n",
       "      <td>1.239031</td>\n",
       "    </tr>\n",
       "  </tbody>\n",
       "</table>\n",
       "</div>"
      ],
      "text/plain": [
       "      m_current  c_current      cost\n",
       "1170   0.488818   2.945448  1.239034\n",
       "1171   0.488812   2.945478  1.239033\n",
       "1172   0.488807   2.945508  1.239033\n",
       "1173   0.488802   2.945538  1.239033\n",
       "1174   0.488796   2.945568  1.239033\n",
       "1175   0.488791   2.945598  1.239033\n",
       "1176   0.488786   2.945627  1.239033\n",
       "1177   0.488781   2.945657  1.239033\n",
       "1178   0.488776   2.945686  1.239033\n",
       "1179   0.488771   2.945715  1.239033\n",
       "1180   0.488766   2.945744  1.239033\n",
       "1181   0.488761   2.945773  1.239033\n",
       "1182   0.488756   2.945802  1.239032\n",
       "1183   0.488751   2.945830  1.239032\n",
       "1184   0.488746   2.945858  1.239032\n",
       "1185   0.488741   2.945887  1.239032\n",
       "1186   0.488736   2.945915  1.239032\n",
       "1187   0.488731   2.945943  1.239032\n",
       "1188   0.488726   2.945970  1.239032\n",
       "1189   0.488721   2.945998  1.239032\n",
       "1190   0.488716   2.946026  1.239032\n",
       "1191   0.488711   2.946053  1.239032\n",
       "1192   0.488707   2.946080  1.239032\n",
       "1193   0.488702   2.946107  1.239032\n",
       "1194   0.488697   2.946134  1.239031\n",
       "1195   0.488692   2.946161  1.239031\n",
       "1196   0.488688   2.946187  1.239031\n",
       "1197   0.488683   2.946214  1.239031\n",
       "1198   0.488679   2.946240  1.239031\n",
       "1199   0.488674   2.946266  1.239031"
      ]
     },
     "execution_count": 39,
     "metadata": {},
     "output_type": "execute_result"
    }
   ],
   "source": [
    "gradients = gradient(X,y)\n",
    "gradients.tail(30)"
   ]
  },
  {
   "cell_type": "code",
   "execution_count": 35,
   "metadata": {},
   "outputs": [
    {
     "data": {
      "text/plain": [
       "<matplotlib.axes._subplots.AxesSubplot at 0x1c93ce03780>"
      ]
     },
     "execution_count": 35,
     "metadata": {},
     "output_type": "execute_result"
    },
    {
     "data": {
      "image/png": "[encoded data removed]",
      "text/plain": [
       "<Figure size 432x288 with 1 Axes>"
      ]
     },
     "metadata": {
      "needs_background": "light"
     },
     "output_type": "display_data"
    }
   ],
   "source": [
    "# plotting cost against num_iterations , as we can see cost funciton becomes costant after 1193 , \n",
    "#so we can use 0.488 (optimal m value) and 2.946 ( optimal c value) \n",
    "gradients.reset_index().plot.line(x='index', y=['cost'])"
   ]
  },
  {
   "cell_type": "markdown",
   "metadata": {},
   "source": [
    "# Gradient by closed  form Derivative method (use sympy derivative function)"
   ]
  },
  {
   "cell_type": "code",
   "execution_count": 31,
   "metadata": {},
   "outputs": [],
   "source": [
    "# need to import sympy library\n",
    "from sympy import * \n",
    "import sympy as sp"
   ]
  },
  {
   "cell_type": "code",
   "execution_count": 32,
   "metadata": {},
   "outputs": [
    {
     "data": {
      "text/plain": [
       "2*x"
      ]
     },
     "execution_count": 32,
     "metadata": {},
     "output_type": "execute_result"
    }
   ],
   "source": [
    "# Test example to solve any equation x**2 +1\n",
    "x = Symbol('x')\n",
    "y = x**2 +1\n",
    "yder= y.diff(x)\n",
    "yder"
   ]
  },
  {
   "cell_type": "markdown",
   "metadata": {},
   "source": [
    "#### Defining cost function for x and y points \n",
    "- x = 1,2,4,6,8\n",
    "- y = 3,5,5,4,8 \n",
    "- CF = ((3-m-c)** 2) +((5-2*m-c)* * *2) + ((5-4*m-c)* * *2 )+ ((4-6*m-c)* * *2 )+ ((8-8*m-c)*  * *2)"
   ]
  },
  {
   "cell_type": "code",
   "execution_count": 29,
   "metadata": {},
   "outputs": [
    {
     "name": "stdout",
     "output_type": "stream",
     "text": [
      "m c\n",
      "42*c + 242*m - 242\n",
      "10*c + 42*m - 50\n"
     ]
    }
   ],
   "source": [
    "# Real example lets say you have below Cost function \n",
    "m,c= symbols('m c') \n",
    "print(m,c)\n",
    "# below cost function defined for x and y points\n",
    "cf = ((3-m-c)**2) +((5-2*m-c)**2) + ((5-4*m-c)**2 )+ ((4-6*m-c)**2 )+ ((8-8*m-c)**2)\n",
    "\n",
    "#cf.diff is used to calculate the derivated w.r.t m and c\n",
    "cf_mder = cf.diff(m)\n",
    "cf_cder = cf.diff(c)\n",
    "\n",
    "# finally we will get 2 equations\n",
    "print(cf_mder) \n",
    "print(cf_cder)"
   ]
  },
  {
   "cell_type": "code",
   "execution_count": 30,
   "metadata": {},
   "outputs": [
    {
     "name": "stdout",
     "output_type": "stream",
     "text": [
      "Eq(42*c + 242*m - 242, 0) Eq(10*c + 42*m - 50, 0)\n",
      "{c: 121/41, m: 20/41}\n"
     ]
    },
    {
     "data": {
      "text/plain": [
       "[(c, 2.9512), (m, 0.4878)]"
      ]
     },
     "execution_count": 30,
     "metadata": {},
     "output_type": "execute_result"
    }
   ],
   "source": [
    "#solving the equation by equating to 0 and then calculating the m and c value by solve method \n",
    "\n",
    "#Step 1 we equate the above derivate Eq to 0 \n",
    "eq1 = sp.Eq(cf_mder, 0) \n",
    "eq2 = sp.Eq(cf_cder, 0) \n",
    "print(eq1,eq2)\n",
    "\n",
    "# below function will help to resolve the Eq and give us m and c value\n",
    "ans = sp.solve((eq1, eq2), (c,m))\n",
    "print(ans)\n",
    "[(key,round(float(value),4)) for key, value in ans.items()]"
   ]
  },
  {
   "cell_type": "code",
   "execution_count": null,
   "metadata": {},
   "outputs": [],
   "source": []
  },
  {
   "cell_type": "code",
   "execution_count": null,
   "metadata": {},
   "outputs": [],
   "source": []
  },
  {
   "cell_type": "code",
   "execution_count": null,
   "metadata": {},
   "outputs": [],
   "source": []
  },
  {
   "cell_type": "code",
   "execution_count": null,
   "metadata": {},
   "outputs": [],
   "source": []
  },
  {
   "cell_type": "code",
   "execution_count": null,
   "metadata": {},
   "outputs": [],
   "source": []
  },
  {
   "cell_type": "code",
   "execution_count": null,
   "metadata": {},
   "outputs": [],
   "source": []
  }
 ],
 "metadata": {
  "kernelspec": {
   "display_name": "Python 3",
   "language": "python",
   "name": "python3"
  },
  "language_info": {
   "codemirror_mode": {
    "name": "ipython",
    "version": 3
   },
   "file_extension": ".py",
   "mimetype": "text/x-python",
   "name": "python",
   "nbconvert_exporter": "python",
   "pygments_lexer": "ipython3",
   "version": "3.7.3"
  }
 },
 "nbformat": 4,
 "nbformat_minor": 2
}
